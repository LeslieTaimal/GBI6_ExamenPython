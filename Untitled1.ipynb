{
 "cells": [
  {
   "cell_type": "code",
   "execution_count": 4,
   "id": "9da61d69",
   "metadata": {},
   "outputs": [
    {
     "name": "stdout",
     "output_type": "stream",
     "text": [
      "    Año de publicación      PMID\n",
      "0                 2022          \n",
      "1                 2022  35121084\n",
      "2                 2021  35120121\n",
      "3                 2022  35113400\n",
      "4                 2022  35104837\n",
      "..                 ...       ...\n",
      "188               2010  22038073\n",
      "189               2009  19844075\n",
      "190               2008  19177531\n",
      "191               2007  19018989\n",
      "192               1996  17187350\n",
      "\n",
      "[193 rows x 2 columns]\n",
      "  Año de publicación      PMID\n",
      "1               2022  35121084\n",
      "2               2021  35120121\n",
      "    Año de publicación      PMID\n",
      "191               2007  19018989\n",
      "192               1996  17187350\n",
      "         PMID  Numero de autores\n",
      "0    35121084                 12\n",
      "1    35120121                 14\n",
      "2    35113400                  2\n",
      "3    35104837                 54\n",
      "4    35064679                  7\n",
      "..        ...                ...\n",
      "188  19844075                  2\n",
      "189  19177531                 23\n",
      "190  19018989                  7\n",
      "191  17187350                  1\n",
      "192   8661097                  9\n",
      "\n",
      "[193 rows x 2 columns]\n",
      "       PMID  Numero de autores\n",
      "0  35121084                 12\n",
      "1  35120121                 14\n",
      "         PMID  Numero de autores\n",
      "191  17187350                  1\n",
      "192   8661097                  9\n",
      "           pais  numero de autores\n",
      "0     Argentina                 44\n",
      "1        Canada                 83\n",
      "2       Ecuador                295\n",
      "3          Peru                 28\n",
      "4       Bolivia                  3\n",
      "..          ...                ...\n",
      "66     Suriname                  2\n",
      "67      Grenada                  2\n",
      "68      Nigeria                  2\n",
      "69       Malawi                  2\n",
      "70  Netherlands                  3\n",
      "\n",
      "[71 rows x 2 columns]\n",
      "        pais  numero de autores\n",
      "0  Argentina                 44\n",
      "1     Canada                 83\n",
      "           pais  numero de autores\n",
      "69       Malawi                  2\n",
      "70  Netherlands                  3\n"
     ]
    }
   ],
   "source": [
    "import numpy as np\n",
    "import matplotlib.pyplot as plt\n",
    "import matplotlib.mlab as mlab\n",
    "import math\n",
    "import seaborn as sns\n",
    "import pandas as pd\n",
    "import scipy.stats as stats\n",
    "\n",
    "\n",
    "import miningscience as msc\n",
    "pub_year=msc.mining_pubs(\"DP\",\"Ecuador genomics\") \n",
    "#en esta función se visualiza el dataframe porque hay un primer PMID y no el primer año\n",
    "#por lo que se empieza desde el 1 \n",
    "print (pub_year)\n",
    "print(pub_year[1:3])\n",
    "print(pub_year[191:193])\n",
    "pub_authors=msc.mining_pubs(\"AU\",\"Ecuador genomics\")\n",
    "print(pub_authors)\n",
    "print(pub_authors[0:2])\n",
    "print(pub_authors[191:193])\n",
    "countries=msc.mining_pubs(\"AD\",\"Ecuador genomics\")\n",
    "print(countries)\n",
    "print(countries[0:2])\n",
    "print(countries[69:71])"
   ]
  },
  {
   "cell_type": "code",
   "execution_count": 11,
   "id": "4cd50867",
   "metadata": {},
   "outputs": [
    {
     "name": "stdout",
     "output_type": "stream",
     "text": [
      "La media es: 12.0625\n",
      "La desviación estandar es: 13.045912514398267\n"
     ]
    }
   ],
   "source": [
    "freq = pub_year['Año de publicación'].value_counts() \n",
    "print (\"La media es:\",np.mean(freq))\n",
    "sd_py = freq.std()\n",
    "print (\"La desviación estandar es:\",sd_py)\n",
    "\n"
   ]
  },
  {
   "cell_type": "code",
   "execution_count": 19,
   "id": "2c4e928b",
   "metadata": {},
   "outputs": [
    {
     "data": {
      "image/png": "[encoded data removed]",
      "text/plain": [
       "<Figure size 432x288 with 1 Axes>"
      ]
     },
     "metadata": {
      "needs_background": "light"
     },
     "output_type": "display_data"
    }
   ],
   "source": [
    "import scipy.stats as stats\n",
    "params = [(12.06,13.045,'blue')]\n",
    "\n",
    "for mean, variance, color in params:\n",
    "    x = np.linspace(mean - 3*math.sqrt(variance), mean + 3*math.sqrt(variance), 100)\n",
    "    sigma = math.sqrt(variance)\n",
    "    label = '$\\mu = %.1f, \\ \\sigma^2=%.1f$' %(mean, variance)\n",
    "    y_norm = stats.norm.pdf(x, mean, sigma)\n",
    "    plt.plot(x, y_norm, label=label, c = color) \n",
    "plt.xlim(0,25)\n",
    "plt.ylim(0,0.15)\n",
    "plt.xlabel('X')\n",
    "plt.ylabel('$φ_{μ,σ^2}(X)$')\n",
    "plt.title('Distribución Normal para el conteo de publicaciones por año')\n",
    "plt.legend(title = \"Parámetros\")\n",
    "plt.show()\n"
   ]
  },
  {
   "cell_type": "code",
   "execution_count": null,
   "id": "4bf1d00b",
   "metadata": {},
   "outputs": [],
   "source": []
  }
 ],
 "metadata": {
  "kernelspec": {
   "display_name": "Python 3 (ipykernel)",
   "language": "python",
   "name": "python3"
  },
  "language_info": {
   "codemirror_mode": {
    "name": "ipython",
    "version": 3
   },
   "file_extension": ".py",
   "mimetype": "text/x-python",
   "name": "python",
   "nbconvert_exporter": "python",
   "pygments_lexer": "ipython3",
   "version": "3.9.7"
  }
 },
 "nbformat": 4,
 "nbformat_minor": 5
}
