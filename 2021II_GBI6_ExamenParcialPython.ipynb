{
 "cells": [
  {
   "cell_type": "markdown",
   "metadata": {},
   "source": [
    "<img src=\"https://www.ikiam.edu.ec/img/logo-ikiam-grey.png\" width=300 height=240 />\n",
    "\n",
    "# EXAMEN PARCIAL PYTHON\n",
    "    \n",
    "\n",
    "## GBI6-2021II: BIOINFORMÁTICA\n",
    "\n",
    "**Taimal Lema, Leslie Josselyn**\n",
    "**18-02-2021**"
   ]
  },
  {
   "cell_type": "markdown",
   "metadata": {},
   "source": [
    "<font color='red'>NO AGREGUE NUEVAS CELDAS, UTILICE ÚNICAMENTE LAS QUE ESTÁN CREADAS</font>\n"
   ]
  },
  {
   "cell_type": "markdown",
   "metadata": {},
   "source": [
    "### REQUERIMIENTOS PARA EL EXAMEN\n",
    "Para este examen se requiere dos documentos: \n",
    "\n",
    "1. Archivo ```miningscience.py``` donde tendrá dos funciones:\n",
    "\n",
    "2. Archivo ```2021II_GBI6_ExamenParcialPython``` donde se llamará las funciones y se obtendrá resultados."
   ]
  },
  {
   "cell_type": "markdown",
   "metadata": {},
   "source": [
    "## Ejercicio 1 [2 puntos]\n",
    "Cree el archivo ```miningscience.py``` con las siguientes dos funciones:\n",
    "    \n",
    "i. ```download_pubmed```: para descargar la data de PubMed utilizando el **ENTREZ** de Biopython. El parámetro de entrada para la función es el ```keyword```. \n",
    "    \n",
    "ii. ```mining_pubs```: esta función debe utilizar el módulo **re** y utilizar el párametro ```tipo``` para realizar lo siguiente:\n",
    "        \n",
    "* Si el tipo es \"DP\" recupera el año de publicación del artículo. El retorno es un *dataframe* con el **PMID** y el **DP_year**.\n",
    "      \n",
    "* Si el tipo es \"AU\" recupera el número de autores por **PMID**. El retorno es un *dataframe* con el **PMID** y el **num_auth**. \n",
    "      \n",
    "* Si el tipo es \"AD\" recupera el conteo de autores por país. El retorno es un *dataframe* con el **country** y el **num_auth**. \n",
    "\n",
    "* *Puede utilizar un ```if``` dentro de la función.* \n",
    "\n",
    "* *Cree un docstring para cada función.* \n",
    "\n",
    "Luego de crear las funciones, cargue el módulo ```miningscience``` como ```msc``` e imprima docstring de cada función.\n",
    "\n",
    "\n"
   ]
  },
  {
   "cell_type": "code",
   "execution_count": 18,
   "metadata": {},
   "outputs": [
    {
     "name": "stdout",
     "output_type": "stream",
     "text": [
      "Help on function download_pubmed in module miningscience:\n",
      "\n",
      "download_pubmed(keyword)\n",
      "    Esta función sirve para la extracción y el conteo de los artículos que contienen una\n",
      "    palabra en especial o keyword llamado en la función, pues se puede definir si tienen que encontrarse en el\n",
      "    título la palabra o en el abstract más comunmunte, cabe destacar que esta función en el examen proporcionara\n",
      "    información acerca del número de artículos y el PMID del primer artículo\n",
      "\n",
      "Help on function mining_pubs in module miningscience:\n",
      "\n",
      "mining_pubs(tipo, keyword)\n",
      "    Esta funcion nos ayuda a la extraccion de datos según nos indique pued tipo hace realcion a DP,AU,AD, en cambio keyword hace relacion a las mismas palabras usadas en el ejercicio 1, pues de esta manera se realizo una función en general, cabe destacar tambien que:\n",
      "    DP recupera el año de publicación del artículo\n",
      "    AU recupera el número de autores por PMID\n",
      "    AD recupera el conteo de autores por país.\n",
      "\n"
     ]
    }
   ],
   "source": [
    "import miningscience as msc\n",
    "help(msc.download_pubmed)\n",
    "help(msc.mining_pubs)\n",
    "#con help nos ayuda a visualizar el docstring \n"
   ]
  },
  {
   "cell_type": "markdown",
   "metadata": {},
   "source": [
    "\n",
    "## Ejercicio 2 [1 punto]\n",
    "\n",
    "\n",
    "Utilice la función ```download_pubmed``` para descargar la data con el keyword ```Ecuador genomics``` e imprima lo siguiente: \n",
    "\n",
    "```python\n",
    "'El número de artículos es: xx' # xx corresponde al número de artículos recuperados\n",
    "\n",
    "'El PMID del primer artículo es: xxxxxxxx' # xxxxxxxx corresponde al ID del artículo en PUDMED\n",
    "\n",
    "```"
   ]
  },
  {
   "cell_type": "code",
   "execution_count": 19,
   "metadata": {},
   "outputs": [
    {
     "name": "stdout",
     "output_type": "stream",
     "text": [
      "El número de articulos es: 193\n",
      "El PMID del primer artículo es: 35121084\n"
     ]
    }
   ],
   "source": [
    "import re\n",
    "import miningscience as msc\n",
    "second=msc.download_pubmed(\"Ecuador genomics\")\n",
    "num_articles=re.findall(r\"PMID-\\s\", second)\n",
    "first_article=re.findall(r\"\\d{8}\", second)\n",
    "print(\"El número de articulos es:\", len(num_articles))\n",
    "print(\"El PMID del primer artículo es:\", first_article[0])\n",
    "#aqui nos ayudamos de refindall y un patron para determinar el número de artículos y el conteo que es len\n",
    "\n",
    "#aqui nos ayudamos de refindall y un patron para determinar el primer articulo pero se pone 8 debido a que el PMID tiene 8 numeron y [0] nos mmuestra el primero "
   ]
  },
  {
   "cell_type": "markdown",
   "metadata": {},
   "source": [
    "## Ejercicio 3 [1 punto]\n",
    "\n",
    "Utilice la función ```mining_pubs``` para crear los siguientes dataframes: \n",
    "\n",
    "* pub_year\n",
    "\n",
    "* pub_authors\n",
    "\n",
    "* coutries\n",
    "\n",
    "Muestre los dos primeros y los dos últimos registros de cada dataframe. "
   ]
  },
  {
   "cell_type": "code",
   "execution_count": 20,
   "metadata": {},
   "outputs": [
    {
     "name": "stdout",
     "output_type": "stream",
     "text": [
      "    Año de publicación      PMID\n",
      "0                 2022          \n",
      "1                 2022  35121084\n",
      "2                 2021  35120121\n",
      "3                 2022  35113400\n",
      "4                 2022  35104837\n",
      "..                 ...       ...\n",
      "188               2010  22038073\n",
      "189               2009  19844075\n",
      "190               2008  19177531\n",
      "191               2007  19018989\n",
      "192               1996  17187350\n",
      "\n",
      "[193 rows x 2 columns]\n",
      "  Año de publicación      PMID\n",
      "0               2022          \n",
      "1               2022  35121084\n",
      "\n",
      "    Año de publicación      PMID\n",
      "191               2007  19018989\n",
      "192               1996  17187350\n",
      "         PMID  Numero de autores\n",
      "0    35121084                 12\n",
      "1    35120121                 14\n",
      "2    35113400                  2\n",
      "3    35104837                 54\n",
      "4    35064679                  7\n",
      "..        ...                ...\n",
      "188  19844075                  2\n",
      "189  19177531                 23\n",
      "190  19018989                  7\n",
      "191  17187350                  1\n",
      "192   8661097                  9\n",
      "\n",
      "[193 rows x 2 columns]\n",
      "       PMID  Numero de autores\n",
      "0  35121084                 12\n",
      "1  35120121                 14\n",
      "         PMID  Numero de autores\n",
      "191  17187350                  1\n",
      "192   8661097                  9\n",
      "           pais  numero de autores\n",
      "0     Argentina                 44\n",
      "1        Canada                 83\n",
      "2       Ecuador                295\n",
      "3          Peru                 28\n",
      "4       Bolivia                  3\n",
      "..          ...                ...\n",
      "66     Suriname                  2\n",
      "67      Grenada                  2\n",
      "68      Nigeria                  2\n",
      "69       Malawi                  2\n",
      "70  Netherlands                  3\n",
      "\n",
      "[71 rows x 2 columns]\n",
      "        pais  numero de autores\n",
      "0  Argentina                 44\n",
      "1     Canada                 83\n",
      "           pais  numero de autores\n",
      "69       Malawi                  2\n",
      "70  Netherlands                  3\n"
     ]
    }
   ],
   "source": [
    "import miningscience as msc\n",
    "pub_year=msc.mining_pubs(\"DP\",\"Ecuador genomics\") \n",
    "#en esta función se visualiza el dataframe porque hay un primer PMID y no el primer año\n",
    "#por lo que se empieza desde el 1 \n",
    "print (pub_year)\n",
    "print(pub_year[0:2])\n",
    "print()\n",
    "print(pub_year[191:193])\n",
    "pub_authors=msc.mining_pubs(\"AU\",\"Ecuador genomics\")\n",
    "print(pub_authors)\n",
    "print(pub_authors[0:2])\n",
    "print(pub_authors[191:193])\n",
    "countries=msc.mining_pubs(\"AD\",\"Ecuador genomics\")\n",
    "print(countries)\n",
    "print(countries[0:2])\n",
    "print(countries[69:71])"
   ]
  },
  {
   "cell_type": "markdown",
   "metadata": {
    "jp-MarkdownHeadingCollapsed": true,
    "tags": []
   },
   "source": [
    "## Ejercicio 4 [2 puntos]\n",
    "\n",
    "Realice la visualización de los datos del ejercicio 3. \n",
    "\n",
    "* ```pubyear```: utilizando el conteo artículos por año, calcule la media y la desviación estandar (asumiendo que la distribución es normal). Realice un gráfico de la distribución normal de sus datos. Coloque el título, leyenda de los ejes \"x\" e \"y\", y la leyenda de la curva (utilice las expresiones matemáticas tipos latex de ser necesario). \n",
    "\n",
    "* ```pub_authors```: realice un boxplot del conteo de autores por artículo. Coloque las leyendas adecuadas para cada eje y el título.  \n",
    "\n",
    "* ```countries```: realice una nube de puntos (adaptación de su tarea), resalte al menos 3 países con flechas. Coloque las leyendas adecuadas para cada eje y el título. \n"
   ]
  },
  {
   "cell_type": "code",
   "execution_count": 53,
   "metadata": {},
   "outputs": [
    {
     "name": "stdout",
     "output_type": "stream",
     "text": [
      "La media es: 12.0625\n",
      "La desviación estandar es: 13.045912514398267\n"
     ]
    },
    {
     "data": {
      "image/png": "[encoded data removed]",
      "text/plain": [
       "<Figure size 432x288 with 1 Axes>"
      ]
     },
     "metadata": {
      "needs_background": "light"
     },
     "output_type": "display_data"
    },
    {
     "name": "stdout",
     "output_type": "stream",
     "text": [
      "         PMID  Numero de autores\n",
      "0    35121084                 12\n",
      "1    35120121                 14\n",
      "2    35113400                  2\n",
      "3    35104837                 54\n",
      "4    35064679                  7\n",
      "..        ...                ...\n",
      "188  19844075                  2\n",
      "189  19177531                 23\n",
      "190  19018989                  7\n",
      "191  17187350                  1\n",
      "192   8661097                  9\n",
      "\n",
      "[193 rows x 2 columns]\n",
      "         pais  numero de autores\n",
      "65        Tex                 34\n",
      "8       Japan                 39\n",
      "50     Norway                 40\n",
      "22      China                 41\n",
      "0   Argentina                 44\n",
      "9       India                 45\n",
      "20      Chile                 48\n",
      "19     Mexico                 56\n",
      "25  Australia                 60\n",
      "12   Colombia                 66\n",
      "61         TX                 68\n",
      "23      Italy                 70\n",
      "24     France                 76\n",
      "1      Canada                 83\n",
      "14   Portugal                100\n",
      "10    Germany                141\n",
      "13     Brazil                171\n",
      "7          UK                195\n",
      "18      Spain                212\n",
      "2     Ecuador                295\n",
      "6         USA                397\n",
      "nube de puntos\n"
     ]
    },
    {
     "data": {
      "image/png": "[encoded data removed]",
      "text/plain": [
       "<Figure size 864x288 with 2 Axes>"
      ]
     },
     "metadata": {
      "needs_background": "light"
     },
     "output_type": "display_data"
    }
   ],
   "source": [
    "import numpy as np\n",
    "import matplotlib.pyplot as plt\n",
    "import matplotlib.mlab as mlab\n",
    "import math\n",
    "import seaborn as sns\n",
    "import pandas as pd\n",
    "import scipy.stats as stats\n",
    "import pandas as pd \n",
    "from collections import Counter\n",
    "#aqui se realiza el conteo de artículos por año\n",
    "freq = pub_year['Año de publicación'].value_counts() \n",
    "print (\"La media es:\",np.mean(freq))\n",
    "sd_py = freq.std()\n",
    "print (\"La desviación estandar es:\",sd_py)\n",
    "import scipy.stats as stats\n",
    "#aquí se realiza la gráfica de distribución normal segun los datos obtenidos anteriormente\n",
    "params = [(12.06,13.045,'green')]\n",
    "for mean, variance, color in params:\n",
    "    x = np.linspace(mean - 3*math.sqrt(variance), mean + 3*math.sqrt(variance), 100)\n",
    "    sigma = math.sqrt(variance)\n",
    "    label = '$\\mu = %.1f, \\ \\sigma^2=%.1f$' %(mean, variance)\n",
    "    y_norm = stats.norm.pdf(x, mean, sigma)\n",
    "    plt.plot(x, y_norm, label=label, c = color) \n",
    "plt.xlim(0,25)\n",
    "plt.ylim(0,0.15)\n",
    "plt.xlabel('X')\n",
    "plt.ylabel('$φ_{μ,σ^2}(X)$')\n",
    "plt.title('Distribución Normal para el conteo de publicaciones por año')\n",
    "plt.legend(title = \"Parámetros\")\n",
    "plt.show()\n",
    "\n",
    "\n",
    "\n",
    "#Boxplot de los autores\n",
    "boxplot = pub_authors[0:800].boxplot(column=[\"Numero de autores\"])\n",
    "plt.title('Autores por titulo', color=\"blue\")\n",
    "plt.ylabel('Frecuencia', color=\"blue\")\n",
    "print(pub_authors)\n",
    "\n",
    "\n",
    "\n",
    "##nube de puntos \n",
    "countries = countries.sort_values(\"numero de autores\")\n",
    "paises_maximos = (countries[50:])\n",
    "print(paises_maximos)\n",
    "print (\"nube de puntos\")\n",
    "latitude = [4.570868, 41.87194, 39.399872, 46.227638, 51.165691, 55.378051, 40.463667, -14.235004, 37.09024, -1.831239  ] \n",
    "                 \n",
    "longitude = [-74.297333, 12.56738,-8.224454, 2.213749, 10.451526, -3.435973, -3.74922, -51.92528, -95.712891, -78.183406]\n",
    "\n",
    "repetitions = [173, 177, 143, 221, 253, 316, 499, 501, 784, 1206]\n",
    "plt.scatter(latitude, longitude, repetitions) \n",
    "plt.colorbar()\n",
    "ard = dict(arrowstyle=\"->\")\n",
    "plt.annotate(\"Alemania\", xy= (51.165691, 10.451526), \n",
    "            xytext = (-10, -20), arrowprops = ard)\n",
    "plt.annotate(\"Colombia\", xy= (40, -20), \n",
    "            xytext = (4.570868, -74.297333), arrowprops = ard)\n",
    "plt.annotate(\"Ecuador\", xy= (-10, -20), \n",
    "            xytext = (-1.831239, -78.183406), arrowprops = ard)\n",
    "\n",
    "params = plt.gcf()\n",
    "plSize = params.get_size_inches()\n",
    "params.set_size_inches( (plSize[0] * 2, plSize[1] * 1) )\n",
    "plt.show()\n",
    "\n",
    "\n",
    "\n"
   ]
  },
  {
   "cell_type": "code",
   "execution_count": null,
   "metadata": {},
   "outputs": [],
   "source": []
  },
  {
   "cell_type": "markdown",
   "metadata": {},
   "source": [
    "## Ejercicio 5 [1 punto]\n",
    "\n",
    "Interprete los resultados del **ejercicio 4**"
   ]
  },
  {
   "cell_type": "markdown",
   "metadata": {},
   "source": [
    "### Escriba la respuesta del ejercicio 5\n"
   ]
  },
  {
   "cell_type": "markdown",
   "metadata": {},
   "source": [
    "## Ejercicio 6 [2 puntos]\n",
    "\n",
    "Para algún gen de interés, realice lo siguiente: \n",
    "\n",
    "1. Una búsqueda en la página del [NCBI nucleotide](https://www.ncbi.nlm.nih.gov/nucleotide/).\n",
    "\n",
    "2. Descargue el ```Accession List``` de su búsqueda.\n",
    "\n",
    "3. Cargue el ```Accession List``` en este notebook y haga una descarga de la data tipo ```genbank``` utilizando los diez primeros IDs de accesión. \n",
    "\n",
    "4. Arme un árbol filogenético para los resultados del paso 3.\n",
    "\n",
    "5. Interprete el árbol del paso 4. "
   ]
  },
  {
   "cell_type": "code",
   "execution_count": 5,
   "metadata": {},
   "outputs": [],
   "source": [
    "# Escriba aquí su código para el ejercicio 6\n",
    "\n"
   ]
  },
  {
   "cell_type": "markdown",
   "metadata": {},
   "source": [
    "**Escriba aquí la interpretación del árbol**"
   ]
  },
  {
   "cell_type": "markdown",
   "metadata": {},
   "source": [
    "## Ejercicio 7 [1 punto]\n",
    "\n",
    "\n",
    "1. Cree en GitHub un repositorio de nombre ```GBI6_ExamenPython```. \n",
    "2. Cree un archivo ```Readme.md``` que debe tener lo siguiente: \n",
    "- Datos personales\n",
    "- Características del computador\n",
    "- Versión de Python/Anaconda y de cada uno de los módulos/paquetes y utilizados\n",
    "- Explicación de la data utilizada\n",
    "\n",
    "3. Cree un directorio de nombre ```data``` donde deben estar guardado la data utilizada \n",
    "4. Realice al menos 1 control de la versión (commits) por cada ejercicio (del 1 al 6), con un mensaje que inicie como: \n",
    "\n",
    "```sh \n",
    "Carlitos Alimaña ha realizado .....  \n",
    "```"
   ]
  }
 ],
 "metadata": {
  "kernelspec": {
   "display_name": "Python 3 (ipykernel)",
   "language": "python",
   "name": "python3"
  },
  "language_info": {
   "codemirror_mode": {
    "name": "ipython",
    "version": 3
   },
   "file_extension": ".py",
   "mimetype": "text/x-python",
   "name": "python",
   "nbconvert_exporter": "python",
   "pygments_lexer": "ipython3",
   "version": "3.9.7"
  },
  "latex_envs": {
   "LaTeX_envs_menu_present": true,
   "autoclose": false,
   "autocomplete": true,
   "bibliofile": "biblio.bib",
   "cite_by": "apalike",
   "current_citInitial": 1,
   "eqLabelWithNumbers": true,
   "eqNumInitial": 1,
   "hotkeys": {
    "equation": "Ctrl-E",
    "itemize": "Ctrl-I"
   },
   "labels_anchors": false,
   "latex_user_defs": false,
   "report_style_numbering": false,
   "user_envs_cfg": false
  },
  "toc": {
   "base_numbering": 1,
   "nav_menu": {},
   "number_sections": true,
   "sideBar": false,
   "skip_h1_title": false,
   "title_cell": "Table of Contents",
   "title_sidebar": "Contents",
   "toc_cell": false,
   "toc_position": {
    "height": "1152.67px",
    "left": "41px",
    "top": "110px",
    "width": "253.458px"
   },
   "toc_section_display": true,
   "toc_window_display": false
  },
  "varInspector": {
   "cols": {
    "lenName": 16,
    "lenType": 16,
    "lenVar": 40
   },
   "kernels_config": {
    "python": {
     "delete_cmd_postfix": "",
     "delete_cmd_prefix": "del ",
     "library": "var_list.py",
     "varRefreshCmd": "print(var_dic_list())"
    },
    "r": {
     "delete_cmd_postfix": ") ",
     "delete_cmd_prefix": "rm(",
     "library": "var_list.r",
     "varRefreshCmd": "cat(var_dic_list()) "
    }
   },
   "types_to_exclude": [
    "module",
    "function",
    "builtin_function_or_method",
    "instance",
    "_Feature"
   ],
   "window_display": false
  }
 },
 "nbformat": 4,
 "nbformat_minor": 4
}
