{
 "cells": [
  {
   "cell_type": "code",
   "execution_count": 16,
   "id": "6e81f4b6",
   "metadata": {},
   "outputs": [
    {
     "name": "stdout",
     "output_type": "stream",
     "text": [
      "  Año de publicación      PMID\n",
      "1               2022  35121084\n",
      "2               2021  35120121\n",
      "    Año de publicación      PMID\n",
      "191               2007  19018989\n",
      "192               1996  17187350\n",
      "       PMID  Numero de autores\n",
      "0  35121084                 12\n",
      "1  35120121                 14\n",
      "         PMID  Numero de autores\n",
      "191  17187350                  1\n",
      "192   8661097                  9\n",
      "        pais  numero de autores\n",
      "0  Argentina                 44\n",
      "1     Canada                 83\n",
      "           pais  numero de autores\n",
      "69       Malawi                  2\n",
      "70  Netherlands                  3\n"
     ]
    }
   ],
   "source": [
    "import miningscience as msc\n",
    "pub_year=msc.mining_pubs(\"DP\",\"Ecuador genomics\")\n",
    "print(pub_year[1:3])\n",
    "print(pub_year[191:193])\n",
    "pub_authors=msc.mining_pubs(\"AU\",\"Ecuador genomics\")\n",
    "print(pub_authors[0:2])\n",
    "print(pub_authors[191:193])\n",
    "countries=msc.mining_pubs(\"AD\",\"Ecuador genomics\")\n",
    "print(countries[0:2])\n",
    "print(countries[69:71])\n",
    "\n"
   ]
  },
  {
   "cell_type": "code",
   "execution_count": null,
   "id": "986df3f1",
   "metadata": {},
   "outputs": [],
   "source": []
  }
 ],
 "metadata": {
  "kernelspec": {
   "display_name": "Python 3 (ipykernel)",
   "language": "python",
   "name": "python3"
  },
  "language_info": {
   "codemirror_mode": {
    "name": "ipython",
    "version": 3
   },
   "file_extension": ".py",
   "mimetype": "text/x-python",
   "name": "python",
   "nbconvert_exporter": "python",
   "pygments_lexer": "ipython3",
   "version": "3.9.7"
  }
 },
 "nbformat": 4,
 "nbformat_minor": 5
}
