{
 "cells": [
  {
   "cell_type": "code",
   "execution_count": 6,
   "id": "3040f139",
   "metadata": {
    "scrolled": true
   },
   "outputs": [
    {
     "name": "stdout",
     "output_type": "stream",
     "text": [
      "    Año de publicación      PMID\n",
      "0                 2022          \n",
      "1                 2022  35121084\n",
      "2                 2021  35120121\n",
      "3                 2022  35113400\n",
      "4                 2022  35104837\n",
      "..                 ...       ...\n",
      "188               2010  22038073\n",
      "189               2009  19844075\n",
      "190               2008  19177531\n",
      "191               2007  19018989\n",
      "192               1996  17187350\n",
      "\n",
      "[193 rows x 2 columns]\n",
      "  Año de publicación      PMID\n",
      "1               2022  35121084\n",
      "2               2021  35120121\n",
      "    Año de publicación      PMID\n",
      "191               2007  19018989\n",
      "192               1996  17187350\n",
      "         PMID  Numero de autores\n",
      "0    35121084                 12\n",
      "1    35120121                 14\n",
      "2    35113400                  2\n",
      "3    35104837                 54\n",
      "4    35064679                  7\n",
      "..        ...                ...\n",
      "188  19844075                  2\n",
      "189  19177531                 23\n",
      "190  19018989                  7\n",
      "191  17187350                  1\n",
      "192   8661097                  9\n",
      "\n",
      "[193 rows x 2 columns]\n",
      "       PMID  Numero de autores\n",
      "0  35121084                 12\n",
      "1  35120121                 14\n",
      "         PMID  Numero de autores\n",
      "191  17187350                  1\n",
      "192   8661097                  9\n",
      "           pais  numero de autores\n",
      "0     Argentina                 44\n",
      "1        Canada                 83\n",
      "2       Ecuador                295\n",
      "3          Peru                 28\n",
      "4       Bolivia                  3\n",
      "..          ...                ...\n",
      "66     Suriname                  2\n",
      "67      Grenada                  2\n",
      "68      Nigeria                  2\n",
      "69       Malawi                  2\n",
      "70  Netherlands                  3\n",
      "\n",
      "[71 rows x 2 columns]\n",
      "        pais  numero de autores\n",
      "0  Argentina                 44\n",
      "1     Canada                 83\n",
      "           pais  numero de autores\n",
      "69       Malawi                  2\n",
      "70  Netherlands                  3\n"
     ]
    }
   ],
   "source": [
    "import miningscience as msc\n",
    "pub_year=msc.mining_pubs(\"DP\",\"Ecuador genomics\") \n",
    "#en esta función se visualiza el dataframe porque hay un primer PMID y no el primer año\n",
    "#por lo que se empieza desde el 1 \n",
    "print (pub_year)\n",
    "print(pub_year[1:3])\n",
    "print(pub_year[191:193])\n",
    "pub_authors=msc.mining_pubs(\"AU\",\"Ecuador genomics\")\n",
    "print(pub_authors)\n",
    "print(pub_authors[0:2])\n",
    "print(pub_authors[191:193])\n",
    "countries=msc.mining_pubs(\"AD\",\"Ecuador genomics\")\n",
    "print(countries)\n",
    "print(countries[0:2])\n",
    "print(countries[69:71])"
   ]
  },
  {
   "cell_type": "code",
   "execution_count": 22,
   "id": "23c75d61",
   "metadata": {},
   "outputs": [
    {
     "name": "stdout",
     "output_type": "stream",
     "text": [
      " Media: 2018.1813471502592\n",
      "Desviación estandar es: 3.1677516094333185\n"
     ]
    },
    {
     "data": {
      "text/plain": [
       "Text(0, 0.5, 'Repetitions')"
      ]
     },
     "execution_count": 22,
     "metadata": {},
     "output_type": "execute_result"
    },
    {
     "data": {
      "image/png": "[encoded data removed]",
      "text/plain": [
       "<Figure size 432x288 with 1 Axes>"
      ]
     },
     "metadata": {
      "needs_background": "light"
     },
     "output_type": "display_data"
    }
   ],
   "source": [
    "import pandas as pd \n",
    "import matplotlib.pyplot as plot\n",
    "from collections import Counter\n",
    "#primero se visuliza los datos del año\n",
    "pub_year[\"Año de publicación\"]=pub_year[\"Año de publicación\"].astype(\"int\")\n",
    "#mean sirve para extraer la media\n",
    "mean = pub_year [\"Año de publicación\"].mean()\n",
    "#std sirve en cambio para extraer la desviación estándar \n",
    "std = pub_year[\"Año de publicación\"].std()\n",
    "print (\" Media:\", mean)\n",
    "print (\"Desviación estandar es:\", std)\n",
    "#aqui se ponen los rangos\n",
    "intervals = range(min(pub_year[\"Año de publicación\"]), max(pub_year[\"Año de publicación\"]))\n",
    "plot.hist(x=pub_year[\"Año de publicación\"], color = \"green\")\n",
    "plot.title(\"Articulos\")\n",
    "plot.xlabel(\"Year\")\n",
    "plot.ylabel(\"Repetitions\")\n",
    "\n",
    "\n"
   ]
  },
  {
   "cell_type": "code",
   "execution_count": 20,
   "id": "e8950989",
   "metadata": {},
   "outputs": [
    {
     "data": {
      "text/plain": [
       "Text(0, 0.5, 'Frecuencia')"
      ]
     },
     "execution_count": 20,
     "metadata": {},
     "output_type": "execute_result"
    },
    {
     "data": {
      "image/png": "[encoded data removed]",
      "text/plain": [
       "<Figure size 432x288 with 1 Axes>"
      ]
     },
     "metadata": {
      "needs_background": "light"
     },
     "output_type": "display_data"
    }
   ],
   "source": [
    "#Boxplot de los autores\n",
    "grafico = pub_authors[0:1000].boxplot(column=[\"Numero de autores\"], color=\"pink\")\n",
    "plot.title(\"Numero de autores por articulos\", color=\"blue\")\n",
    "plot.ylabel(\"Frecuencia\", color=\"blue\")"
   ]
  },
  {
   "cell_type": "code",
   "execution_count": null,
   "id": "e3c9e5d8",
   "metadata": {},
   "outputs": [],
   "source": []
  }
 ],
 "metadata": {
  "kernelspec": {
   "display_name": "Python 3 (ipykernel)",
   "language": "python",
   "name": "python3"
  },
  "language_info": {
   "codemirror_mode": {
    "name": "ipython",
    "version": 3
   },
   "file_extension": ".py",
   "mimetype": "text/x-python",
   "name": "python",
   "nbconvert_exporter": "python",
   "pygments_lexer": "ipython3",
   "version": "3.9.7"
  }
 },
 "nbformat": 4,
 "nbformat_minor": 5
}
